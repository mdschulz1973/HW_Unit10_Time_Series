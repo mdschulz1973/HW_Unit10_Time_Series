{
 "metadata": {
  "language_info": {
   "codemirror_mode": {
    "name": "ipython",
    "version": 3
   },
   "file_extension": ".py",
   "mimetype": "text/x-python",
   "name": "python",
   "nbconvert_exporter": "python",
   "pygments_lexer": "ipython3",
   "version": "3.7.7-final"
  },
  "orig_nbformat": 2,
  "kernelspec": {
   "name": "python3",
   "display_name": "Python 3"
  }
 },
 "nbformat": 4,
 "nbformat_minor": 2,
 "cells": [
  {
   "cell_type": "code",
   "execution_count": 1,
   "metadata": {},
   "outputs": [],
   "source": [
    "import numpy as np \n",
    "import pandas as pd \n",
    "from pathlib import Path\n",
    "%matplotlib inline"
   ]
  },
  {
   "cell_type": "code",
   "execution_count": 4,
   "metadata": {},
   "outputs": [
    {
     "output_type": "execute_result",
     "data": {
      "text/plain": [
       "              Open    High     Low    Last  Change  Settle  Volume  \\\n",
       "Date                                                                 \n",
       "1976-08-02  3398.0  3401.0  3398.0  3401.0     NaN  3401.0     2.0   \n",
       "1976-08-03  3401.0  3401.0  3401.0  3401.0     NaN  3401.0     0.0   \n",
       "1976-08-04  3401.0  3401.0  3401.0  3401.0     NaN  3401.0     0.0   \n",
       "1976-08-05  3401.0  3401.0  3401.0  3401.0     NaN  3401.0     0.0   \n",
       "1976-08-06  3401.0  3401.0  3401.0  3401.0     NaN  3401.0     0.0   \n",
       "\n",
       "            Previous Day Open Interest  \n",
       "Date                                    \n",
       "1976-08-02                         1.0  \n",
       "1976-08-03                         1.0  \n",
       "1976-08-04                         1.0  \n",
       "1976-08-05                         1.0  \n",
       "1976-08-06                         1.0  "
      ],
      "text/html": "<div>\n<style scoped>\n    .dataframe tbody tr th:only-of-type {\n        vertical-align: middle;\n    }\n\n    .dataframe tbody tr th {\n        vertical-align: top;\n    }\n\n    .dataframe thead th {\n        text-align: right;\n    }\n</style>\n<table border=\"1\" class=\"dataframe\">\n  <thead>\n    <tr style=\"text-align: right;\">\n      <th></th>\n      <th>Open</th>\n      <th>High</th>\n      <th>Low</th>\n      <th>Last</th>\n      <th>Change</th>\n      <th>Settle</th>\n      <th>Volume</th>\n      <th>Previous Day Open Interest</th>\n    </tr>\n    <tr>\n      <th>Date</th>\n      <th></th>\n      <th></th>\n      <th></th>\n      <th></th>\n      <th></th>\n      <th></th>\n      <th></th>\n      <th></th>\n    </tr>\n  </thead>\n  <tbody>\n    <tr>\n      <th>1976-08-02</th>\n      <td>3398.0</td>\n      <td>3401.0</td>\n      <td>3398.0</td>\n      <td>3401.0</td>\n      <td>NaN</td>\n      <td>3401.0</td>\n      <td>2.0</td>\n      <td>1.0</td>\n    </tr>\n    <tr>\n      <th>1976-08-03</th>\n      <td>3401.0</td>\n      <td>3401.0</td>\n      <td>3401.0</td>\n      <td>3401.0</td>\n      <td>NaN</td>\n      <td>3401.0</td>\n      <td>0.0</td>\n      <td>1.0</td>\n    </tr>\n    <tr>\n      <th>1976-08-04</th>\n      <td>3401.0</td>\n      <td>3401.0</td>\n      <td>3401.0</td>\n      <td>3401.0</td>\n      <td>NaN</td>\n      <td>3401.0</td>\n      <td>0.0</td>\n      <td>1.0</td>\n    </tr>\n    <tr>\n      <th>1976-08-05</th>\n      <td>3401.0</td>\n      <td>3401.0</td>\n      <td>3401.0</td>\n      <td>3401.0</td>\n      <td>NaN</td>\n      <td>3401.0</td>\n      <td>0.0</td>\n      <td>1.0</td>\n    </tr>\n    <tr>\n      <th>1976-08-06</th>\n      <td>3401.0</td>\n      <td>3401.0</td>\n      <td>3401.0</td>\n      <td>3401.0</td>\n      <td>NaN</td>\n      <td>3401.0</td>\n      <td>0.0</td>\n      <td>1.0</td>\n    </tr>\n  </tbody>\n</table>\n</div>"
     },
     "metadata": {},
     "execution_count": 4
    }
   ],
   "source": [
    "yen_futures = pd.read_csv(\n",
    "    Path(\"Resources/yen.csv\"), index_col=\"Date\", infer_datetime_format=True, parse_dates=True\n",
    ")\n",
    "yen_futures.head()"
   ]
  },
  {
   "cell_type": "code",
   "execution_count": 5,
   "metadata": {},
   "outputs": [
    {
     "output_type": "execute_result",
     "data": {
      "text/plain": [
       "              Open    High     Low    Last  Change  Settle   Volume  \\\n",
       "Date                                                                  \n",
       "1990-01-02  6954.0  6954.0  6835.0  6847.0     NaN  6847.0  48336.0   \n",
       "1990-01-03  6877.0  6910.0  6865.0  6887.0     NaN  6887.0  38206.0   \n",
       "1990-01-04  6937.0  7030.0  6924.0  7008.0     NaN  7008.0  49649.0   \n",
       "1990-01-05  6952.0  6985.0  6942.0  6950.0     NaN  6950.0  29944.0   \n",
       "1990-01-08  6936.0  6972.0  6936.0  6959.0     NaN  6959.0  19763.0   \n",
       "\n",
       "            Previous Day Open Interest  \n",
       "Date                                    \n",
       "1990-01-02                     51473.0  \n",
       "1990-01-03                     53860.0  \n",
       "1990-01-04                     55699.0  \n",
       "1990-01-05                     53111.0  \n",
       "1990-01-08                     52072.0  "
      ],
      "text/html": "<div>\n<style scoped>\n    .dataframe tbody tr th:only-of-type {\n        vertical-align: middle;\n    }\n\n    .dataframe tbody tr th {\n        vertical-align: top;\n    }\n\n    .dataframe thead th {\n        text-align: right;\n    }\n</style>\n<table border=\"1\" class=\"dataframe\">\n  <thead>\n    <tr style=\"text-align: right;\">\n      <th></th>\n      <th>Open</th>\n      <th>High</th>\n      <th>Low</th>\n      <th>Last</th>\n      <th>Change</th>\n      <th>Settle</th>\n      <th>Volume</th>\n      <th>Previous Day Open Interest</th>\n    </tr>\n    <tr>\n      <th>Date</th>\n      <th></th>\n      <th></th>\n      <th></th>\n      <th></th>\n      <th></th>\n      <th></th>\n      <th></th>\n      <th></th>\n    </tr>\n  </thead>\n  <tbody>\n    <tr>\n      <th>1990-01-02</th>\n      <td>6954.0</td>\n      <td>6954.0</td>\n      <td>6835.0</td>\n      <td>6847.0</td>\n      <td>NaN</td>\n      <td>6847.0</td>\n      <td>48336.0</td>\n      <td>51473.0</td>\n    </tr>\n    <tr>\n      <th>1990-01-03</th>\n      <td>6877.0</td>\n      <td>6910.0</td>\n      <td>6865.0</td>\n      <td>6887.0</td>\n      <td>NaN</td>\n      <td>6887.0</td>\n      <td>38206.0</td>\n      <td>53860.0</td>\n    </tr>\n    <tr>\n      <th>1990-01-04</th>\n      <td>6937.0</td>\n      <td>7030.0</td>\n      <td>6924.0</td>\n      <td>7008.0</td>\n      <td>NaN</td>\n      <td>7008.0</td>\n      <td>49649.0</td>\n      <td>55699.0</td>\n    </tr>\n    <tr>\n      <th>1990-01-05</th>\n      <td>6952.0</td>\n      <td>6985.0</td>\n      <td>6942.0</td>\n      <td>6950.0</td>\n      <td>NaN</td>\n      <td>6950.0</td>\n      <td>29944.0</td>\n      <td>53111.0</td>\n    </tr>\n    <tr>\n      <th>1990-01-08</th>\n      <td>6936.0</td>\n      <td>6972.0</td>\n      <td>6936.0</td>\n      <td>6959.0</td>\n      <td>NaN</td>\n      <td>6959.0</td>\n      <td>19763.0</td>\n      <td>52072.0</td>\n    </tr>\n  </tbody>\n</table>\n</div>"
     },
     "metadata": {},
     "execution_count": 5
    }
   ],
   "source": [
    "yen_futures = yen_futures.loc[\"1990-01-01\":, :]\n",
    "yen_futures.head()"
   ]
  },
  {
   "cell_type": "code",
   "execution_count": null,
   "metadata": {},
   "outputs": [],
   "source": []
  }
 ]
}